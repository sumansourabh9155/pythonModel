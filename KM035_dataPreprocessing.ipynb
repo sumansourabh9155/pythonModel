{
 "cells": [
  {
   "cell_type": "code",
   "execution_count": 1,
   "id": "5720588b",
   "metadata": {},
   "outputs": [
    {
     "name": "stdout",
     "output_type": "stream",
     "text": [
      "0    1\n",
      "1    2\n",
      "2    0\n",
      "dtype: int64\n",
      "    a     b     c   d\n",
      "2  10  40.0  40.0  50\n",
      "    a   d\n",
      "0  10  30\n",
      "1  40  50\n",
      "2  10  50\n",
      "    a     b     c   d\n",
      "0  10  20.0   NaN  30\n",
      "2  10  40.0  40.0  50\n",
      "    a   d\n",
      "0  10  30\n",
      "1  40  50\n",
      "2  10  50\n",
      "    a     b     c   d\n",
      "0  10  20.0   NaN  30\n",
      "2  10  40.0  40.0  50\n",
      "    a     b     c   d\n",
      "0  10  20.0   NaN  30\n",
      "1  40   NaN   NaN  50\n",
      "2  10  40.0  40.0  50\n"
     ]
    }
   ],
   "source": [
    "import numpy as np\n",
    "import pandas as pd\n",
    "df=pd.DataFrame([[10,20,np.NaN,30],[40,np.NaN,np.NaN,50],[10,40,40,50]],\n",
    "               columns=\"a b c d\".split())\n",
    "print(df.isna().sum(axis=1))\n",
    "print(df.dropna())\n",
    "print(df.dropna(axis=1))\n",
    "print(df.dropna(thresh=3))\n",
    "print(df.dropna(thresh=3, axis=1))\n",
    "print(df.dropna(subset=['b']))\n",
    "print(df.dropna(how='all'))"
   ]
  },
  {
   "cell_type": "code",
   "execution_count": 2,
   "id": "7afc8b60",
   "metadata": {},
   "outputs": [],
   "source": [
    "from sklearn.impute import SimpleImputer"
   ]
  },
  {
   "cell_type": "code",
   "execution_count": 3,
   "id": "358cf63f",
   "metadata": {},
   "outputs": [
    {
     "name": "stdout",
     "output_type": "stream",
     "text": [
      "[[10. 20. 40. 30.]\n",
      " [40. 30. 40. 50.]\n",
      " [10. 40. 40. 50.]]\n"
     ]
    }
   ],
   "source": [
    "si=SimpleImputer(strategy='mean')\n",
    "df_mean=si.fit_transform(df)\n",
    "print(df_mean)"
   ]
  },
  {
   "cell_type": "code",
   "execution_count": 4,
   "id": "5ec56a29",
   "metadata": {},
   "outputs": [
    {
     "name": "stdout",
     "output_type": "stream",
     "text": [
      "[[10. 20. 40. 30.]\n",
      " [40. 30. 40. 50.]\n",
      " [10. 40. 40. 50.]]\n"
     ]
    }
   ],
   "source": [
    "si=SimpleImputer(strategy='median')\n",
    "df_median=si.fit_transform(df)\n",
    "print(df_median)"
   ]
  },
  {
   "cell_type": "code",
   "execution_count": 5,
   "id": "9eea2357",
   "metadata": {},
   "outputs": [
    {
     "name": "stdout",
     "output_type": "stream",
     "text": [
      "[[10. 20. 40. 30.]\n",
      " [40. 20. 40. 50.]\n",
      " [10. 40. 40. 50.]]\n"
     ]
    }
   ],
   "source": [
    "si=SimpleImputer(strategy='most_frequent')\n",
    "df_most=si.fit_transform(df)\n",
    "print(df_most)"
   ]
  },
  {
   "cell_type": "code",
   "execution_count": 7,
   "id": "21b977d0",
   "metadata": {},
   "outputs": [
    {
     "name": "stdout",
     "output_type": "stream",
     "text": [
      "   0                  1       2           3   4                    5   \\\n",
      "0  39          State-gov   77516   Bachelors  13        Never-married   \n",
      "1  50   Self-emp-not-inc   83311   Bachelors  13   Married-civ-spouse   \n",
      "2  38            Private  215646     HS-grad   9             Divorced   \n",
      "3  53            Private  234721        11th   7   Married-civ-spouse   \n",
      "4  28            Private  338409   Bachelors  13   Married-civ-spouse   \n",
      "\n",
      "                   6               7       8        9     10 11  12  \\\n",
      "0        Adm-clerical   Not-in-family   White     Male  2174  0  40   \n",
      "1     Exec-managerial         Husband   White     Male     0  0  13   \n",
      "2   Handlers-cleaners   Not-in-family   White     Male     0  0  40   \n",
      "3   Handlers-cleaners         Husband   Black     Male     0  0  40   \n",
      "4      Prof-specialty            Wife   Black   Female     0  0  40   \n",
      "\n",
      "               13      14  \n",
      "0   United-States   <=50K  \n",
      "1   United-States   <=50K  \n",
      "2   United-States   <=50K  \n",
      "3   United-States   <=50K  \n",
      "4            Cuba   <=50K  \n"
     ]
    }
   ],
   "source": [
    "df1=pd.read_csv('C:/Users/HP/Downloads/adult.data',\n",
    "                na_values=' ?',header=None)\n",
    "#print(df1.isna().sum())\n",
    "s=SimpleImputer(strategy=\"most_frequent\")\n",
    "df=s.fit_transform(df1)\n",
    "df=pd.DataFrame(df)\n",
    "#print(df.isna().sum())\n",
    "print(df.head())"
   ]
  },
  {
   "cell_type": "code",
   "execution_count": 8,
   "id": "52a3775d",
   "metadata": {},
   "outputs": [
    {
     "name": "stdout",
     "output_type": "stream",
     "text": [
      "   0   1       2   3   4   5   6   7   8   9     10 11  12  13  14\n",
      "0  39   6   77516   9  13   4   0   1   4   1  2174  0  40  38   0\n",
      "1  50   5   83311   9  13   2   3   0   4   1     0  0  13  38   0\n",
      "2  38   3  215646  11   9   0   5   1   4   1     0  0  40  38   0\n",
      "3  53   3  234721   1   7   2   5   0   2   1     0  0  40  38   0\n",
      "4  28   3  338409   9  13   2   9   5   2   0     0  0  40   4   0\n"
     ]
    }
   ],
   "source": [
    "c=[1,3,5,6,7,8,9,13,14]\n",
    "from sklearn.preprocessing import LabelEncoder\n",
    "le=LabelEncoder()\n",
    "for i in c:\n",
    "    df[i]=le.fit_transform(df[i])\n",
    "print(df.head())"
   ]
  },
  {
   "cell_type": "code",
   "execution_count": 12,
   "id": "e1d72e41",
   "metadata": {},
   "outputs": [
    {
     "name": "stdout",
     "output_type": "stream",
     "text": [
      "   0   1       2      3\n",
      "0  1  23    male   good\n",
      "1  2  89  female  great\n",
      "2  3  44    male  great\n",
      "3  3  67  female   good\n"
     ]
    }
   ],
   "source": [
    "df=pd.DataFrame([[1,23,'male','good'],[2,89,'female','great'],[3,44,'male','great'],[3,67,'female','good']],)\n",
    "print(df)"
   ]
  },
  {
   "cell_type": "code",
   "execution_count": 11,
   "id": "c75de941",
   "metadata": {},
   "outputs": [],
   "source": [
    "import numpy as np\n",
    "import pandas as pd\n",
    "df=pd.read_csv(\"adult.data\", header=None, na_values=\" ?\")\n",
    "#df.head()\n",
    "#df[1].unique()\n",
    "print(df.isna().sum())"
   ]
  },
  {
   "cell_type": "code",
   "execution_count": 8,
   "id": "71f0d80a",
   "metadata": {},
   "outputs": [],
   "source": [
    "from sklearn.impute import SimpleImputer\n",
    "df=pd.DataFrame(\n",
    "    SimpleImputer(strategy=\"most_frequent\").fit_transform(df))"
   ]
  },
  {
   "cell_type": "code",
   "execution_count": 13,
   "id": "84abec99",
   "metadata": {},
   "outputs": [],
   "source": [
    "from sklearn.preprocessing import LabelEncoder\n",
    "columns=[1,3,5,6,7,8,9,13,14]\n",
    "for i in columns:\n",
    "    df[i]=LabelEncoder().fit_transform(df[i])\n",
    "#print(df.head())\n"
   ]
  },
  {
   "cell_type": "code",
   "execution_count": 18,
   "id": "50b2aa53",
   "metadata": {},
   "outputs": [],
   "source": [
    "df=pd.DataFrame([[1,'x','male','good'],[2,'y','female','good'],\n",
    "                [3,'a','male','average']], \n",
    "                columns=['id','name','gender','feedback'])"
   ]
  },
  {
   "cell_type": "code",
   "execution_count": 19,
   "id": "ad1ee09e",
   "metadata": {},
   "outputs": [
    {
     "name": "stdout",
     "output_type": "stream",
     "text": [
      "   id name  feedback_average  feedback_good  gender_female  gender_male\n",
      "0   1    x                 0              1              0            1\n",
      "1   2    y                 0              1              1            0\n",
      "2   3    a                 1              0              0            1\n"
     ]
    }
   ],
   "source": [
    "gen={'male':1,'female':2}\n",
    "#df['gender']=df['gender'].map(gen)\n",
    "df=pd.get_dummies(df,columns=['feedback','gender'])\n",
    "print(df)"
   ]
  },
  {
   "cell_type": "code",
   "execution_count": 29,
   "id": "d874ab01",
   "metadata": {
    "scrolled": true
   },
   "outputs": [],
   "source": [
    "df2=pd.DataFrame([[1.0],[2.0],[3.0],[4.0],[5.0],[6.0]])\n",
    "#print(df2)"
   ]
  },
  {
   "cell_type": "code",
   "execution_count": 30,
   "id": "bcea0126",
   "metadata": {},
   "outputs": [],
   "source": [
    "from sklearn.preprocessing import MinMaxScaler\n",
    "from sklearn.preprocessing import StandardScaler"
   ]
  },
  {
   "cell_type": "code",
   "execution_count": 32,
   "id": "6b28ba64",
   "metadata": {},
   "outputs": [
    {
     "name": "stdout",
     "output_type": "stream",
     "text": [
      "     0\n",
      "0  0.0\n",
      "1  0.2\n",
      "2  0.4\n",
      "3  0.6\n",
      "4  0.8\n",
      "5  1.0          0\n",
      "0 -1.46385\n",
      "1 -0.87831\n",
      "2 -0.29277\n",
      "3  0.29277\n",
      "4  0.87831\n",
      "5  1.46385\n"
     ]
    }
   ],
   "source": [
    "df_norm=pd.DataFrame(MinMaxScaler().fit_transform(df2))\n",
    "df_stan=pd.DataFrame(StandardScaler().fit_transform(df2))\n",
    "print(df_norm,df_stan)"
   ]
  },
  {
   "cell_type": "code",
   "execution_count": null,
   "id": "c8976a2b",
   "metadata": {},
   "outputs": [],
   "source": []
  }
 ],
 "metadata": {
  "kernelspec": {
   "display_name": "Python 3",
   "language": "python",
   "name": "python3"
  },
  "language_info": {
   "codemirror_mode": {
    "name": "ipython",
    "version": 3
   },
   "file_extension": ".py",
   "mimetype": "text/x-python",
   "name": "python",
   "nbconvert_exporter": "python",
   "pygments_lexer": "ipython3",
   "version": "3.8.8"
  }
 },
 "nbformat": 4,
 "nbformat_minor": 5
}
